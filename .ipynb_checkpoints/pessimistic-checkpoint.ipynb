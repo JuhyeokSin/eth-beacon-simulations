{
 "cells": [
  {
   "cell_type": "code",
   "execution_count": 1,
   "metadata": {},
   "outputs": [],
   "source": [
    "import main\n",
    "import beacon\n",
    "\n",
    "import matplotlib.pyplot as plt\n",
    "import numpy as np\n",
    "import pandas as pd\n",
    "import scipy.stats as st\n",
    "import pylab as pl\n",
    "from sklearn import preprocessing"
   ]
  },
  {
   "cell_type": "code",
   "execution_count": 2,
   "metadata": {},
   "outputs": [],
   "source": [
    "#    num(total validators) = 111\n",
    "#    p(honest validators proportion): 2/3\n",
    "#    t(time when the honest validators seeking to vote) = 0.5\n",
    "#    t(time when the dishonest validators who are \"aiming\" a smoke cloud) = 0.5\n",
    "#    epsilon(bound of error) = 0.1\n",
    "#    a(time latency) = 0.3\n",
    "#    epsilon2 (dishonest validators' voting time adjustment)"
   ]
  },
  {
   "cell_type": "code",
   "execution_count": 3,
   "metadata": {},
   "outputs": [],
   "source": [
    "def plot_win_lose(n_simulations):\n",
    "    \"\"\"\n",
    "    parameters: the number  of games simulated\n",
    "    This function calculates the number of wins and loses in n simulated games and draws the bar plot\n",
    "    \"\"\"\n",
    "    stats = [main.collect_statistics(beacon.play(boo, poo)) for _ in range(n_simulations)]\n",
    "    \n",
    "    wins = 0\n",
    "    for s in stats:\n",
    "        if (abs(s[0] - s[1])/(s[0] + s[1])) >= 1/3:\n",
    "            wins += 1\n",
    "    sizes = [wins, len(stats)-wins]\n",
    "\n",
    "    print(\"Win : Lose\", \" = \" + \"{:.2%}\".format(sizes[0] / (sizes[0] + sizes[1])) + \n",
    "                        \" : \" + \"{:.2%}\".format(sizes[1] / (sizes[0] + sizes[1])))\n",
    "#     labels = 'Win', 'Lose'\n",
    "#     sizes = [wins, len(stats)-wins]\n",
    "#     colors = ['lightskyblue', 'lightcoral']\n",
    "#     explode = (0, 0.1)\n",
    "    \n",
    "#     # plot\n",
    "#     plt.pie(sizes, explode=explode, labels=labels, \n",
    "#                 colors=colors, autopct='%1.1f%%', shadow=True, startangle=140)\n",
    "#     plt.axis('equal')\n",
    "#     plt.show()\n",
    "    \n",
    "    return sizes"
   ]
  },
  {
   "cell_type": "code",
   "execution_count": 4,
   "metadata": {},
   "outputs": [
    {
     "name": "stdout",
     "output_type": "stream",
     "text": [
      "0.15000000000000002 ~ 0.25\n",
      "Win : Lose  = 93.30% : 6.70%\n",
      "0.2 ~ 0.3\n",
      "Win : Lose  = 90.00% : 10.00%\n",
      "0.25 ~ 0.35\n",
      "Win : Lose  = 80.20% : 19.80%\n",
      "0.3 ~ 0.39999999999999997\n",
      "Win : Lose  = 71.50% : 28.50%\n",
      "0.35000000000000003 ~ 0.45\n",
      "Win : Lose  = 61.10% : 38.90%\n",
      "0.4 ~ 0.5\n",
      "Win : Lose  = 60.90% : 39.10%\n"
     ]
    }
   ],
   "source": [
    "t_vote = 0.5\n",
    "epsilon2 = [0.3, 0.25, 0.2, 0.15, 0.1, 0.05]\n",
    "error = 0.05\n",
    "latency = 0.3\n",
    "\n",
    "for e2 in epsilon2:\n",
    "    boo = beacon.Faction.HonestFaction(74, \"Honest\", t_vote, error, latency)\n",
    "    poo = beacon.Faction.SmokeFaction(37, \"Dishonest\", t_vote, error, e2)\n",
    "    print( str(t_vote - e2 - error) + \" ~ \" + str(t_vote - e2 + error))\n",
    "    plot_win_lose(1000)"
   ]
  },
  {
   "cell_type": "code",
   "execution_count": null,
   "metadata": {},
   "outputs": [],
   "source": []
  },
  {
   "cell_type": "code",
   "execution_count": null,
   "metadata": {},
   "outputs": [],
   "source": []
  }
 ],
 "metadata": {
  "kernelspec": {
   "display_name": "Python 3",
   "language": "python",
   "name": "python3"
  },
  "language_info": {
   "codemirror_mode": {
    "name": "ipython",
    "version": 3
   },
   "file_extension": ".py",
   "mimetype": "text/x-python",
   "name": "python",
   "nbconvert_exporter": "python",
   "pygments_lexer": "ipython3",
   "version": "3.7.3"
  }
 },
 "nbformat": 4,
 "nbformat_minor": 2
}
