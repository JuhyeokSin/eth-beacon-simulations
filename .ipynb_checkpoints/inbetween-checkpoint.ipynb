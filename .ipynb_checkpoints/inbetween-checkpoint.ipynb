{
 "cells": [
  {
   "cell_type": "code",
   "execution_count": 57,
   "metadata": {},
   "outputs": [],
   "source": [
    "import main\n",
    "import beacon"
   ]
  },
  {
   "cell_type": "code",
   "execution_count": 62,
   "metadata": {},
   "outputs": [],
   "source": [
    "def plot_win_lose(n_simulations):\n",
    "    \"\"\"\n",
    "    parameters: the number  of games simulated\n",
    "    This function calculates the number of wins and loses in n simulated games and displays percentages\n",
    "    \"\"\"\n",
    "    stats = [main.collect_statistics(beacon.play(boo, poo)) for _ in range(n_simulations)]\n",
    "    \n",
    "    wins = 0\n",
    "    for s in stats:\n",
    "        if (abs(s[0] - s[1])/(s[0] + s[1])) >= 1/3:\n",
    "            wins += 1\n",
    "    sizes = [wins, len(stats)-wins]\n",
    "\n",
    "    print(\"Win : Lose\", \" = \" + \"{:.2%}\".format(sizes[0] / (sizes[0] + sizes[1])) + \n",
    "                        \" : \" + \"{:.2%}\".format(sizes[1] / (sizes[0] + sizes[1])))\n",
    "    \n",
    "    return sizes"
   ]
  },
  {
   "cell_type": "code",
   "execution_count": 63,
   "metadata": {},
   "outputs": [
    {
     "name": "stdout",
     "output_type": "stream",
     "text": [
      "0.1 ~ 0.5\n",
      "Win : Lose  = 100.00% : 0.00%\n",
      "0.2 ~ 0.6\n",
      "Win : Lose  = 100.00% : 0.00%\n",
      "0.3 ~ 0.7\n",
      "Win : Lose  = 100.00% : 0.00%\n"
     ]
    }
   ],
   "source": [
    "t_vote = 0.2\n",
    "t_attack = [0.5, 0.6, 0.7]\n",
    "error = 0.2\n",
    "latency = 0.2\n",
    "\n",
    "for t in t_attack:\n",
    "    boo = beacon.Faction.HonestFaction(74, \"Honest\", t_vote, error, latency)\n",
    "    poo = beacon.Faction.SmokeFaction(37, \"Dishonest\", t, error, latency)\n",
    "    print( str(round(t - latency - error, 1)) + \" ~ \" + str(t - latency + error))\n",
    "    plot_win_lose(100)"
   ]
  },
  {
   "cell_type": "code",
   "execution_count": null,
   "metadata": {},
   "outputs": [],
   "source": []
  }
 ],
 "metadata": {
  "kernelspec": {
   "display_name": "Python 3",
   "language": "python",
   "name": "python3"
  },
  "language_info": {
   "codemirror_mode": {
    "name": "ipython",
    "version": 3
   },
   "file_extension": ".py",
   "mimetype": "text/x-python",
   "name": "python",
   "nbconvert_exporter": "python",
   "pygments_lexer": "ipython3",
   "version": "3.6.7"
  }
 },
 "nbformat": 4,
 "nbformat_minor": 2
}
