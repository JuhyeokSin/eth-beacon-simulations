{
 "cells": [
  {
   "cell_type": "code",
   "execution_count": 1,
   "metadata": {},
   "outputs": [],
   "source": [
    "import main\n",
    "import beacon"
   ]
  },
  {
   "cell_type": "code",
   "execution_count": 2,
   "metadata": {},
   "outputs": [],
   "source": [
    "def plot_win_lose(n_simulations):\n",
    "    \"\"\"\n",
    "    parameters: the number  of games simulated\n",
    "    This function calculates the number of wins and loses in n simulated games and displays percentages\n",
    "    \"\"\"\n",
    "    stats = [main.collect_statistics(beacon.play(boo, poo)) for _ in range(n_simulations)]\n",
    "    \n",
    "    wins = 0\n",
    "    for s in stats:\n",
    "        if (abs(s[0] - s[1])/(s[0] + s[1])) >= 1/3:\n",
    "            wins += 1\n",
    "    sizes = [wins, len(stats)-wins]\n",
    "\n",
    "    print(\"Win : Lose\", \" = \" + \"{:.2%}\".format(sizes[0] / (sizes[0] + sizes[1])) + \n",
    "                        \" : \" + \"{:.2%}\".format(sizes[1] / (sizes[0] + sizes[1])))\n",
    "    \n",
    "    return sizes"
   ]
  },
  {
   "cell_type": "code",
   "execution_count": 3,
   "metadata": {},
   "outputs": [
    {
     "name": "stdout",
     "output_type": "stream",
     "text": [
      "0.25 ~ 0.35\n",
      "Win : Lose  = 93.60% : 6.40%\n",
      "\n",
      "\n",
      "0.35 ~ 0.44999999999999996\n",
      "Win : Lose  = 79.40% : 20.60%\n",
      "\n",
      "\n",
      "0.45 ~ 0.5499999999999999\n",
      "Win : Lose  = 99.90% : 0.10%\n",
      "\n",
      "\n"
     ]
    }
   ],
   "source": [
    "t_vote = 0.5\n",
    "t_attack = [0.5, 0.6, 0.7]\n",
    "error = 0.05\n",
    "latency = 0.2 # When we set the latency 0.2, it means a = 0.1 in the representation of the paper. \n",
    "              # It also means that epsilon_2 is 0.1 as well in the representation of the paper.\n",
    "\n",
    "for t in t_attack:\n",
    "    boo = beacon.Faction.HonestFaction(74, \"Honest\", t_vote, error, latency)\n",
    "    poo = beacon.Faction.SmokeFaction(37, \"Dishonest\", t, error, latency)\n",
    "    print( str(round(t - latency - error, 2)) + \" ~ \" + str(t - latency + error))\n",
    "    plot_win_lose(1000)\n",
    "    print(\"\\n\")"
   ]
  },
  {
   "cell_type": "code",
   "execution_count": null,
   "metadata": {},
   "outputs": [],
   "source": []
  }
 ],
 "metadata": {
  "kernelspec": {
   "display_name": "Python 3",
   "language": "python",
   "name": "python3"
  },
  "language_info": {
   "codemirror_mode": {
    "name": "ipython",
    "version": 3
   },
   "file_extension": ".py",
   "mimetype": "text/x-python",
   "name": "python",
   "nbconvert_exporter": "python",
   "pygments_lexer": "ipython3",
   "version": "3.7.3"
  }
 },
 "nbformat": 4,
 "nbformat_minor": 2
}
