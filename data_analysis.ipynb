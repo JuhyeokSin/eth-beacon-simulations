{
 "cells": [
  {
   "cell_type": "code",
   "execution_count": 10,
   "metadata": {
    "collapsed": true,
    "deletable": true,
    "editable": true
   },
   "outputs": [],
   "source": [
    "import main\n",
    "import beacon\n",
    "\n",
    "import matplotlib.pyplot as plt\n",
    "import numpy as np\n",
    "import pandas as pd\n",
    "import scipy.stats as st"
   ]
  },
  {
   "cell_type": "code",
   "execution_count": 11,
   "metadata": {
    "collapsed": true,
    "deletable": true,
    "editable": true
   },
   "outputs": [],
   "source": [
    "#    num(total validators) = 30\n",
    "#    p(honest validators proportion): 2/3\n",
    "#    t(time when the honest validators seeking to vote) = 0.5\n",
    "#    t(time when the dishonest validators who are \"aiming\" a smoke cloud) = 0.5\n",
    "#    epsilon(bound of error) = 0.1\n",
    "#    a(time latency) = 0.3\n",
    "boo = beacon.Faction.HonestFaction(20, \"Honest\", 0.5, 0.1, 0.3)\n",
    "poo = beacon.Faction.SmokeFaction(10, \"Dishonest\", 0.5, 0.1, 0.3)"
   ]
  },
  {
   "cell_type": "code",
   "execution_count": 12,
   "metadata": {
    "collapsed": false,
    "deletable": true,
    "editable": true
   },
   "outputs": [],
   "source": [
    "def plot_game_ratio():\n",
    "    \"\"\"\n",
    "    This function calculates the ratio of 0s and 1s in one game and draws the scatter plot\n",
    "    \"\"\"\n",
    "    \n",
    "    game = beacon.play(boo, poo)\n",
    "    \n",
    "    numberZeros = 0\n",
    "    ratioZeros = 0\n",
    "    ratioZeros_list = []\n",
    "    for n in range(len(game)):\n",
    "        if game[n][2] == 0:\n",
    "            numberZeros += 1\n",
    "        ratioZeros = numberZeros/(n+1)\n",
    "        ratioZeros_list.append(ratioZeros)\n",
    "    ratioOnes_list = [1-item for item in ratioZeros_list]\n",
    "    \n",
    "    plt.plot(range(30), np.ravel(ratioZeros_list), 'o', color = 'red')\n",
    "    plt.plot(range(30), np.ravel(ratioOnes_list), 'o', color = 'blue')\n",
    "    plt.ylabel('ratio')\n",
    "    plt.xlabel('Number of votes')\n",
    "    plt.title('The ratio for number of 0s and the ratio for number of 1s in one game')\n",
    "    plt.legend(('0', '1'))\n",
    "    \n",
    "    plt.show()    "
   ]
  },
  {
   "cell_type": "code",
   "execution_count": 13,
   "metadata": {
    "collapsed": false,
    "deletable": true,
    "editable": true
   },
   "outputs": [
    {
     "data": {
      "image/png": "[encoded data removed]",
      "text/plain": [
       "<matplotlib.figure.Figure at 0x11e9c3a90>"
      ]
     },
     "metadata": {},
     "output_type": "display_data"
    }
   ],
   "source": [
    "plot_game_ratio()"
   ]
  },
  {
   "cell_type": "code",
   "execution_count": 14,
   "metadata": {
    "collapsed": true,
    "deletable": true,
    "editable": true
   },
   "outputs": [],
   "source": [
    "#As you can see, the ratio for number of 0s and the ratio for number of 1s generally will increase or decrease\n",
    "#monotonically after some number of votes. It makes sense since the honest validators will always attest the target \n",
    "#with the most number of votes"
   ]
  },
  {
   "cell_type": "code",
   "execution_count": 16,
   "metadata": {
    "collapsed": false,
    "deletable": true,
    "editable": true
   },
   "outputs": [],
   "source": [
    "def plot_win_lose(n_simulations):\n",
    "    \"\"\"\n",
    "    parameters: the number of games simulated\n",
    "    \n",
    "    This function calculates the number of wins and loses in n simulated games and draws the bar plot\n",
    "    \"\"\"\n",
    "    stats = [main.collect_statistics(beacon.play(boo, poo)) for _ in range(n_simulations)]\n",
    "    \n",
    "    wins = 0\n",
    "    for s in stats:\n",
    "        if s[0] / (s[1]+s[0]) >= 2/3 or s[1] / (s[0]+s[1]) >= 2/3:\n",
    "            wins += 1\n",
    "        \n",
    "    result = ('Win', 'Lose')\n",
    "    y_pos = np.arange(len(result))\n",
    "    performance = [wins, len(stats)-wins]\n",
    "    \n",
    "    \n",
    "    plt.bar(y_pos, performance, align='center', alpha=0.5)\n",
    "    plt.text(-0.05, len(stats)/2, wins)\n",
    "    plt.text(0.95, len(stats)/2, len(stats)-wins)\n",
    "    plt.xticks(y_pos, result)\n",
    "    plt.ylabel('Result')\n",
    "    plt.title('Number of Win & Lose for n simulated games')\n",
    "    plt.show()\n",
    "    \n",
    "    \n",
    "    return performance"
   ]
  },
  {
   "cell_type": "code",
   "execution_count": 17,
   "metadata": {
    "collapsed": false,
    "deletable": true,
    "editable": true
   },
   "outputs": [
    {
     "data": {
      "image/png": "[encoded data removed]",
      "text/plain": [
       "<matplotlib.figure.Figure at 0x11b7cc550>"
      ]
     },
     "metadata": {},
     "output_type": "display_data"
    },
    {
     "data": {
      "text/plain": [
       "[191, 9]"
      ]
     },
     "execution_count": 17,
     "metadata": {},
     "output_type": "execute_result"
    }
   ],
   "source": [
    "plot_win_lose(200)"
   ]
  },
  {
   "cell_type": "code",
   "execution_count": 18,
   "metadata": {
    "collapsed": true,
    "deletable": true,
    "editable": true
   },
   "outputs": [],
   "source": [
    "#next we are going to explore the ratio of winning and losing, to see if there is any pattern\n",
    "def win_lose_ratio(n_simulations, n_ratio_compared):\n",
    "    \"\"\"\n",
    "    parameters:\n",
    "        n_simulations: The number of games simulated to obtain one ratio value\n",
    "        n_ratio_compared: The number of ratio values\n",
    "        \n",
    "    This function calculates the ratio of wins and loses in n_simulations games, \n",
    "    then append each ratio (total of n_ratio_compared ratios) to the list\n",
    "    \"\"\"\n",
    "    ratio_list = []\n",
    "    \n",
    "    for n in range(n_ratio_compared):\n",
    "        ratio = 0\n",
    "        stats = [main.collect_statistics(beacon.play(boo, poo)) for _ in range(n_simulations)]\n",
    "\n",
    "        wins = 0\n",
    "        for s in stats:\n",
    "            if s[0] / (s[1]+s[0]) >= 2/3 or s[1] / (s[0]+s[1]) >= 2/3:\n",
    "                wins += 1\n",
    "\n",
    "        ratio = wins/len(stats)\n",
    "        ratio_list.append(ratio)\n",
    "    \n",
    "    return ratio_list"
   ]
  },
  {
   "cell_type": "code",
   "execution_count": 19,
   "metadata": {
    "collapsed": false,
    "deletable": true,
    "editable": true
   },
   "outputs": [
    {
     "data": {
      "image/png": "[encoded data removed]",
      "text/plain": [
       "<matplotlib.figure.Figure at 0x11e9ed390>"
      ]
     },
     "metadata": {},
     "output_type": "display_data"
    }
   ],
   "source": [
    "#the plot of 100 ratios of 100 simulated games\n",
    "win_lose_ratio = win_lose_ratio(100, 100)\n",
    "plt.plot(win_lose_ratio, 'o-')\n",
    "plt.ylabel('ratio')\n",
    "plt.xlabel('Number of ratios')\n",
    "plt.title('The ratio for winnin n simulated games')\n",
    "plt.show()"
   ]
  },
  {
   "cell_type": "code",
   "execution_count": 20,
   "metadata": {
    "collapsed": false,
    "deletable": true,
    "editable": true
   },
   "outputs": [
    {
     "data": {
      "text/html": [
       "<div>\n",
       "<table border=\"1\" class=\"dataframe\">\n",
       "  <thead>\n",
       "    <tr style=\"text-align: right;\">\n",
       "      <th></th>\n",
       "      <th>win</th>\n",
       "    </tr>\n",
       "  </thead>\n",
       "  <tbody>\n",
       "    <tr>\n",
       "      <th>count</th>\n",
       "      <td>100.000000</td>\n",
       "    </tr>\n",
       "    <tr>\n",
       "      <th>mean</th>\n",
       "      <td>0.931000</td>\n",
       "    </tr>\n",
       "    <tr>\n",
       "      <th>std</th>\n",
       "      <td>0.025839</td>\n",
       "    </tr>\n",
       "    <tr>\n",
       "      <th>min</th>\n",
       "      <td>0.860000</td>\n",
       "    </tr>\n",
       "    <tr>\n",
       "      <th>25%</th>\n",
       "      <td>0.910000</td>\n",
       "    </tr>\n",
       "    <tr>\n",
       "      <th>50%</th>\n",
       "      <td>0.930000</td>\n",
       "    </tr>\n",
       "    <tr>\n",
       "      <th>75%</th>\n",
       "      <td>0.950000</td>\n",
       "    </tr>\n",
       "    <tr>\n",
       "      <th>max</th>\n",
       "      <td>0.980000</td>\n",
       "    </tr>\n",
       "  </tbody>\n",
       "</table>\n",
       "</div>"
      ],
      "text/plain": [
       "              win\n",
       "count  100.000000\n",
       "mean     0.931000\n",
       "std      0.025839\n",
       "min      0.860000\n",
       "25%      0.910000\n",
       "50%      0.930000\n",
       "75%      0.950000\n",
       "max      0.980000"
      ]
     },
     "execution_count": 20,
     "metadata": {},
     "output_type": "execute_result"
    }
   ],
   "source": [
    "#Through the example above, we have obtained 100 win/lose ratios of 100 simulated games \n",
    "#(so each ratio is calculated by the data from 100 simulated games)\n",
    "#There is no significant pattern except most of the ratios are centered around 0.93\n",
    "#we can calculate the basic stats\n",
    "ratio_df = pd.DataFrame(win_lose_ratio)\n",
    "ratio_df.columns = ['win']\n",
    "ratio_df.describe()"
   ]
  },
  {
   "cell_type": "code",
   "execution_count": 21,
   "metadata": {
    "collapsed": false,
    "deletable": true,
    "editable": true
   },
   "outputs": [
    {
     "data": {
      "text/plain": [
       "(0.92587289409815698, 0.93612710590184289)"
      ]
     },
     "execution_count": 21,
     "metadata": {},
     "output_type": "execute_result"
    }
   ],
   "source": [
    "#we can calculate the 95% confidence interval by using the scipy.stats.interval function\n",
    "st.t.interval(0.95, len(win_lose_ratio)-1, loc=np.mean(win_lose_ratio), scale=st.sem(win_lose_ratio))"
   ]
  },
  {
   "cell_type": "code",
   "execution_count": 22,
   "metadata": {
    "collapsed": true,
    "deletable": true,
    "editable": true
   },
   "outputs": [],
   "source": [
    "#or we can do it manually\n",
    "def mean_confidence_interval(data, confidence=0.95):\n",
    "    a = 1.0 * np.array(data)\n",
    "    n = len(a)\n",
    "    m, se = np.mean(a), st.sem(a)\n",
    "    h = se * st.t.ppf((1 + confidence) / 2., n-1)\n",
    "    return m, m-h, m+h"
   ]
  },
  {
   "cell_type": "code",
   "execution_count": 23,
   "metadata": {
    "collapsed": false,
    "deletable": true,
    "editable": true
   },
   "outputs": [
    {
     "data": {
      "text/plain": [
       "(0.93099999999999994, 0.92587289409815698, 0.93612710590184289)"
      ]
     },
     "execution_count": 23,
     "metadata": {},
     "output_type": "execute_result"
    }
   ],
   "source": [
    "mean_confidence_interval(win_lose_ratio)"
   ]
  },
  {
   "cell_type": "code",
   "execution_count": 24,
   "metadata": {
    "collapsed": true,
    "deletable": true,
    "editable": true
   },
   "outputs": [],
   "source": [
    "#future works:\n",
    "#We have only done the analysis for one set of parameters, namely:\n",
    "#    \n",
    "#    num(total validators) = 30\n",
    "#    p(honest validators proportion): 2/3\n",
    "#    t(time when the honest validators seeking to vote) = 0.5\n",
    "#    t(time when the dishonest validators who are \"aiming\" a smoke cloud) = 0.5\n",
    "#    epsilon(bound of error) = 0.1\n",
    "#    a(time latency) = 0.3\n",
    "#\n",
    "#Next we can to apply the above analysis "
   ]
  },
  {
   "cell_type": "code",
   "execution_count": null,
   "metadata": {
    "collapsed": true
   },
   "outputs": [],
   "source": []
  }
 ],
 "metadata": {
  "kernelspec": {
   "display_name": "Python 3",
   "language": "python",
   "name": "python3"
  },
  "language_info": {
   "codemirror_mode": {
    "name": "ipython",
    "version": 3
   },
   "file_extension": ".py",
   "mimetype": "text/x-python",
   "name": "python",
   "nbconvert_exporter": "python",
   "pygments_lexer": "ipython3",
   "version": "3.5.2"
  }
 },
 "nbformat": 4,
 "nbformat_minor": 2
}
